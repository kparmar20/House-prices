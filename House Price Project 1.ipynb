{
 "cells": [
  {
   "cell_type": "code",
   "execution_count": 2,
   "metadata": {
    "collapsed": true
   },
   "outputs": [],
   "source": [
    "import numpy as np\n",
    "import pandas as pd\n",
    "import seaborn as sns\n",
    "import matplotlib.pyplot as plt\n",
    "\n",
    "LONDON_DATA_FILE = 'house_prices_london-P1.csv'\n",
    "\n"
   ]
  },
  {
   "cell_type": "code",
   "execution_count": 3,
   "metadata": {
    "collapsed": true
   },
   "outputs": [],
   "source": [
    "df = pd.read_csv('pp-complete.csv', header=None)"
   ]
  },
  {
   "cell_type": "code",
   "execution_count": 4,
   "metadata": {},
   "outputs": [
    {
     "data": {
      "text/plain": [
       "(22763598, 16)"
      ]
     },
     "execution_count": 4,
     "metadata": {},
     "output_type": "execute_result"
    }
   ],
   "source": [
    "df.shape #22.8m rows"
   ]
  },
  {
   "cell_type": "code",
   "execution_count": 5,
   "metadata": {},
   "outputs": [
    {
     "data": {
      "text/plain": [
       "0     {F61BC602-B309-4373-B142-14C6F7CAD04C}\n",
       "1                                      70000\n",
       "2                           1995-06-09 00:00\n",
       "3                                   EX39 1BE\n",
       "4                                          D\n",
       "5                                          N\n",
       "6                                          F\n",
       "7                                         14\n",
       "8                                        NaN\n",
       "9                                 LUNDY VIEW\n",
       "10                                   NORTHAM\n",
       "11                                  BIDEFORD\n",
       "12                                  TORRIDGE\n",
       "13                                     DEVON\n",
       "14                                         A\n",
       "15                                         A\n",
       "Name: 0, dtype: object"
      ]
     },
     "execution_count": 5,
     "metadata": {},
     "output_type": "execute_result"
    }
   ],
   "source": [
    "#get an idea of the data\n",
    "df.loc[0]"
   ]
  },
  {
   "cell_type": "code",
   "execution_count": 6,
   "metadata": {},
   "outputs": [
    {
     "data": {
      "text/html": [
       "<div>\n",
       "<style>\n",
       "    .dataframe thead tr:only-child th {\n",
       "        text-align: right;\n",
       "    }\n",
       "\n",
       "    .dataframe thead th {\n",
       "        text-align: left;\n",
       "    }\n",
       "\n",
       "    .dataframe tbody tr th {\n",
       "        vertical-align: top;\n",
       "    }\n",
       "</style>\n",
       "<table border=\"1\" class=\"dataframe\">\n",
       "  <thead>\n",
       "    <tr style=\"text-align: right;\">\n",
       "      <th></th>\n",
       "      <th>0</th>\n",
       "      <th>1</th>\n",
       "      <th>2</th>\n",
       "      <th>3</th>\n",
       "      <th>4</th>\n",
       "      <th>5</th>\n",
       "      <th>6</th>\n",
       "      <th>7</th>\n",
       "      <th>8</th>\n",
       "      <th>9</th>\n",
       "      <th>10</th>\n",
       "      <th>11</th>\n",
       "      <th>12</th>\n",
       "      <th>13</th>\n",
       "      <th>14</th>\n",
       "      <th>15</th>\n",
       "    </tr>\n",
       "  </thead>\n",
       "  <tbody>\n",
       "    <tr>\n",
       "      <th>22763596</th>\n",
       "      <td>{582D0637-E099-8F22-E053-6C04A8C01BAC}</td>\n",
       "      <td>40000</td>\n",
       "      <td>2017-04-06 00:00</td>\n",
       "      <td>SA33 4PQ</td>\n",
       "      <td>O</td>\n",
       "      <td>Y</td>\n",
       "      <td>F</td>\n",
       "      <td>DAWNS Y MOR</td>\n",
       "      <td>PLOT 2</td>\n",
       "      <td>NaN</td>\n",
       "      <td>PENDINE</td>\n",
       "      <td>CARMARTHEN</td>\n",
       "      <td>CARMARTHENSHIRE</td>\n",
       "      <td>CARMARTHENSHIRE</td>\n",
       "      <td>B</td>\n",
       "      <td>A</td>\n",
       "    </tr>\n",
       "    <tr>\n",
       "      <th>22763597</th>\n",
       "      <td>{582D0637-E09B-8F22-E053-6C04A8C01BAC}</td>\n",
       "      <td>500000</td>\n",
       "      <td>2017-06-26 00:00</td>\n",
       "      <td>LD2 3NP</td>\n",
       "      <td>O</td>\n",
       "      <td>N</td>\n",
       "      <td>F</td>\n",
       "      <td>CAER BERIS MANOR HOTEL &amp; RESTAURANT</td>\n",
       "      <td>NaN</td>\n",
       "      <td>NaN</td>\n",
       "      <td>NaN</td>\n",
       "      <td>BUILTH WELLS</td>\n",
       "      <td>POWYS</td>\n",
       "      <td>POWYS</td>\n",
       "      <td>B</td>\n",
       "      <td>A</td>\n",
       "    </tr>\n",
       "  </tbody>\n",
       "</table>\n",
       "</div>"
      ],
      "text/plain": [
       "                                              0       1                 2   \\\n",
       "22763596  {582D0637-E099-8F22-E053-6C04A8C01BAC}   40000  2017-04-06 00:00   \n",
       "22763597  {582D0637-E09B-8F22-E053-6C04A8C01BAC}  500000  2017-06-26 00:00   \n",
       "\n",
       "                3  4  5  6                                    7       8    9   \\\n",
       "22763596  SA33 4PQ  O  Y  F                          DAWNS Y MOR  PLOT 2  NaN   \n",
       "22763597   LD2 3NP  O  N  F  CAER BERIS MANOR HOTEL & RESTAURANT     NaN  NaN   \n",
       "\n",
       "               10            11               12               13 14 15  \n",
       "22763596  PENDINE    CARMARTHEN  CARMARTHENSHIRE  CARMARTHENSHIRE  B  A  \n",
       "22763597      NaN  BUILTH WELLS            POWYS            POWYS  B  A  "
      ]
     },
     "execution_count": 6,
     "metadata": {},
     "output_type": "execute_result"
    }
   ],
   "source": [
    "df.tail(2)"
   ]
  },
  {
   "cell_type": "code",
   "execution_count": 7,
   "metadata": {
    "collapsed": true
   },
   "outputs": [],
   "source": [
    "df.columns=['ID','Sold Price','Sold Date','Postcode','Type','New Build','Freehold/Sharehold','House Number1','House Number2','Street Name1','City1','City2','Borough','Region','Unconfirmed1','Unconfirmed2']"
   ]
  },
  {
   "cell_type": "code",
   "execution_count": 8,
   "metadata": {},
   "outputs": [
    {
     "data": {
      "text/html": [
       "<div>\n",
       "<style>\n",
       "    .dataframe thead tr:only-child th {\n",
       "        text-align: right;\n",
       "    }\n",
       "\n",
       "    .dataframe thead th {\n",
       "        text-align: left;\n",
       "    }\n",
       "\n",
       "    .dataframe tbody tr th {\n",
       "        vertical-align: top;\n",
       "    }\n",
       "</style>\n",
       "<table border=\"1\" class=\"dataframe\">\n",
       "  <thead>\n",
       "    <tr style=\"text-align: right;\">\n",
       "      <th></th>\n",
       "      <th>Sold Price</th>\n",
       "      <th>Sold Date</th>\n",
       "      <th>Postcode</th>\n",
       "      <th>Type</th>\n",
       "      <th>New Build</th>\n",
       "      <th>Freehold/Sharehold</th>\n",
       "      <th>House Number1</th>\n",
       "      <th>House Number2</th>\n",
       "      <th>Street Name1</th>\n",
       "      <th>City1</th>\n",
       "      <th>City2</th>\n",
       "      <th>Borough</th>\n",
       "      <th>Region</th>\n",
       "    </tr>\n",
       "  </thead>\n",
       "  <tbody>\n",
       "    <tr>\n",
       "      <th>22763596</th>\n",
       "      <td>40000</td>\n",
       "      <td>2017-04-06 00:00</td>\n",
       "      <td>SA33 4PQ</td>\n",
       "      <td>O</td>\n",
       "      <td>Y</td>\n",
       "      <td>F</td>\n",
       "      <td>DAWNS Y MOR</td>\n",
       "      <td>PLOT 2</td>\n",
       "      <td>NaN</td>\n",
       "      <td>PENDINE</td>\n",
       "      <td>CARMARTHEN</td>\n",
       "      <td>CARMARTHENSHIRE</td>\n",
       "      <td>CARMARTHENSHIRE</td>\n",
       "    </tr>\n",
       "    <tr>\n",
       "      <th>22763597</th>\n",
       "      <td>500000</td>\n",
       "      <td>2017-06-26 00:00</td>\n",
       "      <td>LD2 3NP</td>\n",
       "      <td>O</td>\n",
       "      <td>N</td>\n",
       "      <td>F</td>\n",
       "      <td>CAER BERIS MANOR HOTEL &amp; RESTAURANT</td>\n",
       "      <td>NaN</td>\n",
       "      <td>NaN</td>\n",
       "      <td>NaN</td>\n",
       "      <td>BUILTH WELLS</td>\n",
       "      <td>POWYS</td>\n",
       "      <td>POWYS</td>\n",
       "    </tr>\n",
       "  </tbody>\n",
       "</table>\n",
       "</div>"
      ],
      "text/plain": [
       "          Sold Price         Sold Date  Postcode Type New Build  \\\n",
       "22763596       40000  2017-04-06 00:00  SA33 4PQ    O         Y   \n",
       "22763597      500000  2017-06-26 00:00   LD2 3NP    O         N   \n",
       "\n",
       "         Freehold/Sharehold                        House Number1  \\\n",
       "22763596                  F                          DAWNS Y MOR   \n",
       "22763597                  F  CAER BERIS MANOR HOTEL & RESTAURANT   \n",
       "\n",
       "         House Number2 Street Name1    City1         City2          Borough  \\\n",
       "22763596        PLOT 2          NaN  PENDINE    CARMARTHEN  CARMARTHENSHIRE   \n",
       "22763597           NaN          NaN      NaN  BUILTH WELLS            POWYS   \n",
       "\n",
       "                   Region  \n",
       "22763596  CARMARTHENSHIRE  \n",
       "22763597            POWYS  "
      ]
     },
     "execution_count": 8,
     "metadata": {},
     "output_type": "execute_result"
    }
   ],
   "source": [
    "#drop some of the columns such as ID, Unconfirmed1, Unconfirmed2\n",
    "filtered_df=pd.DataFrame(df, columns=['Sold Price','Sold Date','Postcode','Type','New Build','Freehold/Sharehold','House Number1','House Number2','Street Name1','City1','City2','Borough','Region'])\n",
    "filtered_df.tail(2) "
   ]
  },
  {
   "cell_type": "code",
   "execution_count": 9,
   "metadata": {},
   "outputs": [
    {
     "data": {
      "text/html": [
       "<div>\n",
       "<style>\n",
       "    .dataframe thead tr:only-child th {\n",
       "        text-align: right;\n",
       "    }\n",
       "\n",
       "    .dataframe thead th {\n",
       "        text-align: left;\n",
       "    }\n",
       "\n",
       "    .dataframe tbody tr th {\n",
       "        vertical-align: top;\n",
       "    }\n",
       "</style>\n",
       "<table border=\"1\" class=\"dataframe\">\n",
       "  <thead>\n",
       "    <tr style=\"text-align: right;\">\n",
       "      <th></th>\n",
       "      <th>Sold Price</th>\n",
       "      <th>Sold Date</th>\n",
       "      <th>Postcode</th>\n",
       "      <th>Type</th>\n",
       "      <th>New Build</th>\n",
       "      <th>Freehold/Sharehold</th>\n",
       "      <th>House Number1</th>\n",
       "      <th>House Number2</th>\n",
       "      <th>Street Name1</th>\n",
       "      <th>City1</th>\n",
       "      <th>City2</th>\n",
       "      <th>Borough</th>\n",
       "      <th>Region</th>\n",
       "    </tr>\n",
       "  </thead>\n",
       "  <tbody>\n",
       "    <tr>\n",
       "      <th>22763501</th>\n",
       "      <td>128379</td>\n",
       "      <td>2017-03-10 00:00</td>\n",
       "      <td>NaN</td>\n",
       "      <td>F</td>\n",
       "      <td>Y</td>\n",
       "      <td>L</td>\n",
       "      <td>ROYAL WHARF</td>\n",
       "      <td>FLAT 21C-06-02</td>\n",
       "      <td>NORTH WOOLWICH ROAD</td>\n",
       "      <td>NaN</td>\n",
       "      <td>LONDON</td>\n",
       "      <td>NEWHAM</td>\n",
       "      <td>GREATER LONDON</td>\n",
       "    </tr>\n",
       "    <tr>\n",
       "      <th>22763502</th>\n",
       "      <td>126912</td>\n",
       "      <td>2017-03-10 00:00</td>\n",
       "      <td>NaN</td>\n",
       "      <td>F</td>\n",
       "      <td>Y</td>\n",
       "      <td>L</td>\n",
       "      <td>ROYAL WHARF</td>\n",
       "      <td>FLAT 21C-06-03</td>\n",
       "      <td>NORTH WOOLWICH ROAD</td>\n",
       "      <td>NaN</td>\n",
       "      <td>LONDON</td>\n",
       "      <td>NEWHAM</td>\n",
       "      <td>GREATER LONDON</td>\n",
       "    </tr>\n",
       "  </tbody>\n",
       "</table>\n",
       "</div>"
      ],
      "text/plain": [
       "          Sold Price         Sold Date Postcode Type New Build  \\\n",
       "22763501      128379  2017-03-10 00:00      NaN    F         Y   \n",
       "22763502      126912  2017-03-10 00:00      NaN    F         Y   \n",
       "\n",
       "         Freehold/Sharehold House Number1   House Number2  \\\n",
       "22763501                  L   ROYAL WHARF  FLAT 21C-06-02   \n",
       "22763502                  L   ROYAL WHARF  FLAT 21C-06-03   \n",
       "\n",
       "                 Street Name1 City1   City2 Borough          Region  \n",
       "22763501  NORTH WOOLWICH ROAD   NaN  LONDON  NEWHAM  GREATER LONDON  \n",
       "22763502  NORTH WOOLWICH ROAD   NaN  LONDON  NEWHAM  GREATER LONDON  "
      ]
     },
     "execution_count": 9,
     "metadata": {},
     "output_type": "execute_result"
    }
   ],
   "source": [
    "#filter for specific region only\n",
    "#final_df=filtered_df[filtered_df.Region==\"GREATER LONDON\"] \n",
    "final_df=filtered_df[(filtered_df.City1=='LONDON')|(filtered_df.City2=='LONDON')]\n",
    "final_df.tail(2) "
   ]
  },
  {
   "cell_type": "code",
   "execution_count": 10,
   "metadata": {
    "collapsed": true
   },
   "outputs": [],
   "source": [
    "final_df.to_csv(LONDON_DATA_FILE, index=False)"
   ]
  },
  {
   "cell_type": "code",
   "execution_count": 11,
   "metadata": {},
   "outputs": [
    {
     "data": {
      "text/html": [
       "<div>\n",
       "<style>\n",
       "    .dataframe thead tr:only-child th {\n",
       "        text-align: right;\n",
       "    }\n",
       "\n",
       "    .dataframe thead th {\n",
       "        text-align: left;\n",
       "    }\n",
       "\n",
       "    .dataframe tbody tr th {\n",
       "        vertical-align: top;\n",
       "    }\n",
       "</style>\n",
       "<table border=\"1\" class=\"dataframe\">\n",
       "  <thead>\n",
       "    <tr style=\"text-align: right;\">\n",
       "      <th></th>\n",
       "      <th>Sold Price</th>\n",
       "      <th>Sold Date</th>\n",
       "      <th>Postcode</th>\n",
       "      <th>Type</th>\n",
       "      <th>New Build</th>\n",
       "      <th>Freehold/Sharehold</th>\n",
       "      <th>House Number1</th>\n",
       "      <th>House Number2</th>\n",
       "      <th>Street Name1</th>\n",
       "      <th>City1</th>\n",
       "      <th>City2</th>\n",
       "      <th>Borough</th>\n",
       "      <th>Region</th>\n",
       "    </tr>\n",
       "  </thead>\n",
       "  <tbody>\n",
       "    <tr>\n",
       "      <th>22763501</th>\n",
       "      <td>128379</td>\n",
       "      <td>2017-03-10 00:00</td>\n",
       "      <td>NaN</td>\n",
       "      <td>F</td>\n",
       "      <td>Y</td>\n",
       "      <td>L</td>\n",
       "      <td>ROYAL WHARF</td>\n",
       "      <td>FLAT 21C-06-02</td>\n",
       "      <td>NORTH WOOLWICH ROAD</td>\n",
       "      <td>NaN</td>\n",
       "      <td>LONDON</td>\n",
       "      <td>NEWHAM</td>\n",
       "      <td>GREATER LONDON</td>\n",
       "    </tr>\n",
       "    <tr>\n",
       "      <th>22763502</th>\n",
       "      <td>126912</td>\n",
       "      <td>2017-03-10 00:00</td>\n",
       "      <td>NaN</td>\n",
       "      <td>F</td>\n",
       "      <td>Y</td>\n",
       "      <td>L</td>\n",
       "      <td>ROYAL WHARF</td>\n",
       "      <td>FLAT 21C-06-03</td>\n",
       "      <td>NORTH WOOLWICH ROAD</td>\n",
       "      <td>NaN</td>\n",
       "      <td>LONDON</td>\n",
       "      <td>NEWHAM</td>\n",
       "      <td>GREATER LONDON</td>\n",
       "    </tr>\n",
       "  </tbody>\n",
       "</table>\n",
       "</div>"
      ],
      "text/plain": [
       "          Sold Price         Sold Date Postcode Type New Build  \\\n",
       "22763501      128379  2017-03-10 00:00      NaN    F         Y   \n",
       "22763502      126912  2017-03-10 00:00      NaN    F         Y   \n",
       "\n",
       "         Freehold/Sharehold House Number1   House Number2  \\\n",
       "22763501                  L   ROYAL WHARF  FLAT 21C-06-02   \n",
       "22763502                  L   ROYAL WHARF  FLAT 21C-06-03   \n",
       "\n",
       "                 Street Name1 City1   City2 Borough          Region  \n",
       "22763501  NORTH WOOLWICH ROAD   NaN  LONDON  NEWHAM  GREATER LONDON  \n",
       "22763502  NORTH WOOLWICH ROAD   NaN  LONDON  NEWHAM  GREATER LONDON  "
      ]
     },
     "execution_count": 11,
     "metadata": {},
     "output_type": "execute_result"
    }
   ],
   "source": [
    "#check data\n",
    "final_df.iloc[0]\n",
    "final_df.shape #0.9m records\n",
    "final_df.tail(2) #does this contain 2017 data?"
   ]
  },
  {
   "cell_type": "code",
   "execution_count": 12,
   "metadata": {},
   "outputs": [
    {
     "data": {
      "text/html": [
       "<div>\n",
       "<style>\n",
       "    .dataframe thead tr:only-child th {\n",
       "        text-align: right;\n",
       "    }\n",
       "\n",
       "    .dataframe thead th {\n",
       "        text-align: left;\n",
       "    }\n",
       "\n",
       "    .dataframe tbody tr th {\n",
       "        vertical-align: top;\n",
       "    }\n",
       "</style>\n",
       "<table border=\"1\" class=\"dataframe\">\n",
       "  <thead>\n",
       "    <tr style=\"text-align: right;\">\n",
       "      <th></th>\n",
       "      <th>Sold Price</th>\n",
       "      <th>Sold Date</th>\n",
       "      <th>Postcode</th>\n",
       "      <th>Type</th>\n",
       "      <th>New Build</th>\n",
       "      <th>Freehold/Sharehold</th>\n",
       "      <th>House Number1</th>\n",
       "      <th>House Number2</th>\n",
       "      <th>Street Name1</th>\n",
       "      <th>City1</th>\n",
       "      <th>City2</th>\n",
       "      <th>Borough</th>\n",
       "      <th>Region</th>\n",
       "    </tr>\n",
       "  </thead>\n",
       "  <tbody>\n",
       "    <tr>\n",
       "      <th>1801813</th>\n",
       "      <td>128379</td>\n",
       "      <td>2017-03-10 00:00</td>\n",
       "      <td>NaN</td>\n",
       "      <td>F</td>\n",
       "      <td>Y</td>\n",
       "      <td>L</td>\n",
       "      <td>ROYAL WHARF</td>\n",
       "      <td>FLAT 21C-06-02</td>\n",
       "      <td>NORTH WOOLWICH ROAD</td>\n",
       "      <td>NaN</td>\n",
       "      <td>LONDON</td>\n",
       "      <td>NEWHAM</td>\n",
       "      <td>GREATER LONDON</td>\n",
       "    </tr>\n",
       "    <tr>\n",
       "      <th>1801814</th>\n",
       "      <td>126912</td>\n",
       "      <td>2017-03-10 00:00</td>\n",
       "      <td>NaN</td>\n",
       "      <td>F</td>\n",
       "      <td>Y</td>\n",
       "      <td>L</td>\n",
       "      <td>ROYAL WHARF</td>\n",
       "      <td>FLAT 21C-06-03</td>\n",
       "      <td>NORTH WOOLWICH ROAD</td>\n",
       "      <td>NaN</td>\n",
       "      <td>LONDON</td>\n",
       "      <td>NEWHAM</td>\n",
       "      <td>GREATER LONDON</td>\n",
       "    </tr>\n",
       "  </tbody>\n",
       "</table>\n",
       "</div>"
      ],
      "text/plain": [
       "         Sold Price         Sold Date Postcode Type New Build  \\\n",
       "1801813      128379  2017-03-10 00:00      NaN    F         Y   \n",
       "1801814      126912  2017-03-10 00:00      NaN    F         Y   \n",
       "\n",
       "        Freehold/Sharehold House Number1   House Number2         Street Name1  \\\n",
       "1801813                  L   ROYAL WHARF  FLAT 21C-06-02  NORTH WOOLWICH ROAD   \n",
       "1801814                  L   ROYAL WHARF  FLAT 21C-06-03  NORTH WOOLWICH ROAD   \n",
       "\n",
       "        City1   City2 Borough          Region  \n",
       "1801813   NaN  LONDON  NEWHAM  GREATER LONDON  \n",
       "1801814   NaN  LONDON  NEWHAM  GREATER LONDON  "
      ]
     },
     "execution_count": 12,
     "metadata": {},
     "output_type": "execute_result"
    }
   ],
   "source": [
    "lon_df = pd.read_csv(LONDON_DATA_FILE, header=0, encoding = \"ISO-8859-1\") #change encoding type\n",
    "lon_df.iloc[0]\n",
    "lon_df.tail(2)"
   ]
  },
  {
   "cell_type": "code",
   "execution_count": 13,
   "metadata": {
    "collapsed": true
   },
   "outputs": [],
   "source": [
    "#fails with memory error\n",
    "#gl_df['Postcode_short'] = df['Postcode'].str.split('::').str[0]"
   ]
  },
  {
   "cell_type": "code",
   "execution_count": 14,
   "metadata": {
    "collapsed": true
   },
   "outputs": [],
   "source": [
    "#check data types\n",
    "#gl_df.dtypes"
   ]
  },
  {
   "cell_type": "code",
   "execution_count": 15,
   "metadata": {
    "collapsed": true
   },
   "outputs": [],
   "source": [
    "#fails with float errors\n",
    "#gl_df['Postcode_short'] = [x.split()[0] for x in gl_df['Postcode']]"
   ]
  },
  {
   "cell_type": "code",
   "execution_count": 16,
   "metadata": {
    "collapsed": true
   },
   "outputs": [],
   "source": [
    "#fails\n",
    "#gl_df['Postcode_short'] = gl_df['Postcode'].str.split()[0]"
   ]
  },
  {
   "cell_type": "code",
   "execution_count": 17,
   "metadata": {
    "collapsed": true
   },
   "outputs": [],
   "source": [
    "#convert to string\n",
    "lon_df['Postcode'] = lon_df['Postcode'].astype('str') "
   ]
  },
  {
   "cell_type": "code",
   "execution_count": 18,
   "metadata": {
    "collapsed": true
   },
   "outputs": [],
   "source": [
    "#extract first part of postcode\n",
    "lon_df['Postcode_short'] = [x.split()[0] for x in lon_df['Postcode']]"
   ]
  },
  {
   "cell_type": "code",
   "execution_count": 19,
   "metadata": {
    "collapsed": true
   },
   "outputs": [],
   "source": [
    "#check\n",
    "#gl_df.dtypes"
   ]
  },
  {
   "cell_type": "code",
   "execution_count": 20,
   "metadata": {},
   "outputs": [
    {
     "data": {
      "text/html": [
       "<div>\n",
       "<style>\n",
       "    .dataframe thead tr:only-child th {\n",
       "        text-align: right;\n",
       "    }\n",
       "\n",
       "    .dataframe thead th {\n",
       "        text-align: left;\n",
       "    }\n",
       "\n",
       "    .dataframe tbody tr th {\n",
       "        vertical-align: top;\n",
       "    }\n",
       "</style>\n",
       "<table border=\"1\" class=\"dataframe\">\n",
       "  <thead>\n",
       "    <tr style=\"text-align: right;\">\n",
       "      <th></th>\n",
       "      <th>Sold Price</th>\n",
       "      <th>Sold Date</th>\n",
       "      <th>Postcode</th>\n",
       "      <th>Type</th>\n",
       "      <th>New Build</th>\n",
       "      <th>Freehold/Sharehold</th>\n",
       "      <th>House Number1</th>\n",
       "      <th>House Number2</th>\n",
       "      <th>Street Name1</th>\n",
       "      <th>City1</th>\n",
       "      <th>City2</th>\n",
       "      <th>Borough</th>\n",
       "      <th>Region</th>\n",
       "      <th>Postcode_short</th>\n",
       "    </tr>\n",
       "  </thead>\n",
       "  <tbody>\n",
       "    <tr>\n",
       "      <th>1801813</th>\n",
       "      <td>128379</td>\n",
       "      <td>2017-03-10 00:00</td>\n",
       "      <td>nan</td>\n",
       "      <td>F</td>\n",
       "      <td>Y</td>\n",
       "      <td>L</td>\n",
       "      <td>ROYAL WHARF</td>\n",
       "      <td>FLAT 21C-06-02</td>\n",
       "      <td>NORTH WOOLWICH ROAD</td>\n",
       "      <td>NaN</td>\n",
       "      <td>LONDON</td>\n",
       "      <td>NEWHAM</td>\n",
       "      <td>GREATER LONDON</td>\n",
       "      <td>nan</td>\n",
       "    </tr>\n",
       "    <tr>\n",
       "      <th>1801814</th>\n",
       "      <td>126912</td>\n",
       "      <td>2017-03-10 00:00</td>\n",
       "      <td>nan</td>\n",
       "      <td>F</td>\n",
       "      <td>Y</td>\n",
       "      <td>L</td>\n",
       "      <td>ROYAL WHARF</td>\n",
       "      <td>FLAT 21C-06-03</td>\n",
       "      <td>NORTH WOOLWICH ROAD</td>\n",
       "      <td>NaN</td>\n",
       "      <td>LONDON</td>\n",
       "      <td>NEWHAM</td>\n",
       "      <td>GREATER LONDON</td>\n",
       "      <td>nan</td>\n",
       "    </tr>\n",
       "  </tbody>\n",
       "</table>\n",
       "</div>"
      ],
      "text/plain": [
       "         Sold Price         Sold Date Postcode Type New Build  \\\n",
       "1801813      128379  2017-03-10 00:00      nan    F         Y   \n",
       "1801814      126912  2017-03-10 00:00      nan    F         Y   \n",
       "\n",
       "        Freehold/Sharehold House Number1   House Number2         Street Name1  \\\n",
       "1801813                  L   ROYAL WHARF  FLAT 21C-06-02  NORTH WOOLWICH ROAD   \n",
       "1801814                  L   ROYAL WHARF  FLAT 21C-06-03  NORTH WOOLWICH ROAD   \n",
       "\n",
       "        City1   City2 Borough          Region Postcode_short  \n",
       "1801813   NaN  LONDON  NEWHAM  GREATER LONDON            nan  \n",
       "1801814   NaN  LONDON  NEWHAM  GREATER LONDON            nan  "
      ]
     },
     "execution_count": 20,
     "metadata": {},
     "output_type": "execute_result"
    }
   ],
   "source": [
    "lon_df.loc[900120]\n",
    "lon_df.tail(2)"
   ]
  },
  {
   "cell_type": "code",
   "execution_count": 21,
   "metadata": {
    "collapsed": true
   },
   "outputs": [],
   "source": [
    "#choose E14 and flats only\n",
    "E14_df=lon_df[(lon_df.Postcode_short=='E14') & (lon_df.Type=='F')] \n",
    "#need to sort by Sold Date\n",
    "#E14_df.dtypes\n",
    "#reorder by date\n",
    "E14_df=E14_df.sort_values(by='Sold Date',ascending=True)\n"
   ]
  },
  {
   "cell_type": "code",
   "execution_count": 22,
   "metadata": {
    "collapsed": true
   },
   "outputs": [],
   "source": [
    "#E14_df.dtypes"
   ]
  },
  {
   "cell_type": "code",
   "execution_count": 23,
   "metadata": {},
   "outputs": [
    {
     "data": {
      "text/plain": [
       "(37941, 14)"
      ]
     },
     "execution_count": 23,
     "metadata": {},
     "output_type": "execute_result"
    }
   ],
   "source": [
    "E14_df.shape"
   ]
  },
  {
   "cell_type": "code",
   "execution_count": 24,
   "metadata": {
    "scrolled": true
   },
   "outputs": [
    {
     "data": {
      "text/html": [
       "<div>\n",
       "<style>\n",
       "    .dataframe thead tr:only-child th {\n",
       "        text-align: right;\n",
       "    }\n",
       "\n",
       "    .dataframe thead th {\n",
       "        text-align: left;\n",
       "    }\n",
       "\n",
       "    .dataframe tbody tr th {\n",
       "        vertical-align: top;\n",
       "    }\n",
       "</style>\n",
       "<table border=\"1\" class=\"dataframe\">\n",
       "  <thead>\n",
       "    <tr style=\"text-align: right;\">\n",
       "      <th></th>\n",
       "      <th>Sold Price</th>\n",
       "      <th>Sold Date</th>\n",
       "      <th>Postcode</th>\n",
       "      <th>Type</th>\n",
       "      <th>New Build</th>\n",
       "      <th>Freehold/Sharehold</th>\n",
       "      <th>House Number1</th>\n",
       "      <th>House Number2</th>\n",
       "      <th>Street Name1</th>\n",
       "      <th>City1</th>\n",
       "      <th>City2</th>\n",
       "      <th>Borough</th>\n",
       "      <th>Region</th>\n",
       "      <th>Postcode_short</th>\n",
       "    </tr>\n",
       "  </thead>\n",
       "  <tbody>\n",
       "    <tr>\n",
       "      <th>1778411</th>\n",
       "      <td>850000</td>\n",
       "      <td>2017-09-22</td>\n",
       "      <td>E14 5SH</td>\n",
       "      <td>F</td>\n",
       "      <td>N</td>\n",
       "      <td>L</td>\n",
       "      <td>331</td>\n",
       "      <td>NaN</td>\n",
       "      <td>BOARDWALK PLACE</td>\n",
       "      <td>NaN</td>\n",
       "      <td>LONDON</td>\n",
       "      <td>TOWER HAMLETS</td>\n",
       "      <td>GREATER LONDON</td>\n",
       "      <td>E14</td>\n",
       "    </tr>\n",
       "    <tr>\n",
       "      <th>1778590</th>\n",
       "      <td>185000</td>\n",
       "      <td>2017-09-26</td>\n",
       "      <td>E14 7JZ</td>\n",
       "      <td>F</td>\n",
       "      <td>N</td>\n",
       "      <td>L</td>\n",
       "      <td>BERGLEN COURT, 7</td>\n",
       "      <td>FLAT 199</td>\n",
       "      <td>BRANCH ROAD</td>\n",
       "      <td>NaN</td>\n",
       "      <td>LONDON</td>\n",
       "      <td>TOWER HAMLETS</td>\n",
       "      <td>GREATER LONDON</td>\n",
       "      <td>E14</td>\n",
       "    </tr>\n",
       "  </tbody>\n",
       "</table>\n",
       "</div>"
      ],
      "text/plain": [
       "         Sold Price  Sold Date Postcode Type New Build Freehold/Sharehold  \\\n",
       "1778411      850000 2017-09-22  E14 5SH    F         N                  L   \n",
       "1778590      185000 2017-09-26  E14 7JZ    F         N                  L   \n",
       "\n",
       "            House Number1 House Number2     Street Name1 City1   City2  \\\n",
       "1778411               331           NaN  BOARDWALK PLACE   NaN  LONDON   \n",
       "1778590  BERGLEN COURT, 7      FLAT 199      BRANCH ROAD   NaN  LONDON   \n",
       "\n",
       "               Borough          Region Postcode_short  \n",
       "1778411  TOWER HAMLETS  GREATER LONDON            E14  \n",
       "1778590  TOWER HAMLETS  GREATER LONDON            E14  "
      ]
     },
     "execution_count": 24,
     "metadata": {},
     "output_type": "execute_result"
    }
   ],
   "source": [
    "#convert field to datetime\n",
    "E14_df['Sold Date']=E14_df['Sold Date'].apply(pd.to_datetime)\n",
    "E14_df.to_csv(LONDON_DATA_FILE, index=False)\n",
    "E14_df.tail(2)"
   ]
  },
  {
   "cell_type": "code",
   "execution_count": 25,
   "metadata": {},
   "outputs": [
    {
     "data": {
      "image/png": "[encoded data removed]",
      "text/plain": [
       "<matplotlib.figure.Figure at 0x221b4c4f898>"
      ]
     },
     "metadata": {},
     "output_type": "display_data"
    }
   ],
   "source": [
    "E14_df.index=E14_df['Sold Date']\n",
    "E14_df.head(2)\n",
    "resampled_df = E14_df['Sold Price'].resample('3M').mean()\n",
    "resampled_df.plot()\n",
    "plt.show()"
   ]
  },
  {
   "cell_type": "code",
   "execution_count": 26,
   "metadata": {
    "collapsed": true
   },
   "outputs": [],
   "source": [
    "#E14_df.head(10000).plot(x='Sold Date', y='Sold Price')\n",
    "#E14_df.plot(x='Sold Date', y='Sold Price')\n",
    "#plt.show() #graph per each individual sale - so very varied results"
   ]
  },
  {
   "cell_type": "code",
   "execution_count": 27,
   "metadata": {
    "collapsed": true
   },
   "outputs": [],
   "source": [
    "#E14_df['Sold Date'].head(20) #check dates"
   ]
  },
  {
   "cell_type": "code",
   "execution_count": 28,
   "metadata": {},
   "outputs": [
    {
     "data": {
      "image/png": "[encoded data removed]",
      "text/plain": [
       "<matplotlib.figure.Figure at 0x21fc6c21748>"
      ]
     },
     "metadata": {},
     "output_type": "display_data"
    }
   ],
   "source": [
    "#Complete london prices sampled over 3 months - takes a long time to derive\n",
    "\n",
    "lon_df['Sold Date']=lon_df['Sold Date'].apply(pd.to_datetime)\n",
    "lon_df.index=lon_df['Sold Date']\n",
    "resampled_df = lon_df['Sold Price'].resample('3M').median()\n",
    "plt.ylabel('Sold Price(£)')\n",
    "plt.title('Median London Property Sold Prices')\n",
    "resampled_df.plot()\n",
    "plt.ylim(0, 600000)\n",
    "plt.grid()\n",
    "plt.show()"
   ]
  },
  {
   "cell_type": "code",
   "execution_count": 29,
   "metadata": {},
   "outputs": [
    {
     "data": {
      "image/png": "[encoded data removed]",
      "text/plain": [
       "<matplotlib.figure.Figure at 0x21fc6887cc0>"
      ]
     },
     "metadata": {},
     "output_type": "display_data"
    }
   ],
   "source": [
    "#Complete london prices sampled over 3 months - takes a long time to derive\n",
    "\n",
    "lon_df['Sold Date']=lon_df['Sold Date'].apply(pd.to_datetime)\n",
    "lon_df.index=lon_df['Sold Date']\n",
    "resampled_df = lon_df['Sold Price'].resample('3M').mean()\n",
    "plt.ylabel('Sold Price(£)')\n",
    "plt.title('Mean London Property Sold Prices')\n",
    "resampled_df.plot()\n",
    "plt.ylim(0, 1300000)\n",
    "plt.grid()\n",
    "plt.show()"
   ]
  },
  {
   "cell_type": "code",
   "execution_count": 30,
   "metadata": {},
   "outputs": [
    {
     "data": {
      "text/plain": [
       "Sold Date\n",
       "1995-01-31    1.132413e+05\n",
       "1995-04-30    1.058450e+05\n",
       "1995-07-31    1.094804e+05\n",
       "1995-10-31    1.097656e+05\n",
       "1996-01-31    1.105789e+05\n",
       "1996-04-30    1.110961e+05\n",
       "1996-07-31    1.190550e+05\n",
       "1996-10-31    1.225622e+05\n",
       "1997-01-31    1.236672e+05\n",
       "1997-04-30    1.279356e+05\n",
       "1997-07-31    1.408360e+05\n",
       "1997-10-31    1.395589e+05\n",
       "1998-01-31    1.418240e+05\n",
       "1998-04-30    1.519739e+05\n",
       "1998-07-31    1.550609e+05\n",
       "1998-10-31    1.556257e+05\n",
       "1999-01-31    1.507767e+05\n",
       "1999-04-30    1.664872e+05\n",
       "1999-07-31    1.781698e+05\n",
       "1999-10-31    1.891183e+05\n",
       "2000-01-31    1.954333e+05\n",
       "2000-04-30    2.121637e+05\n",
       "2000-07-31    2.177137e+05\n",
       "2000-10-31    2.165343e+05\n",
       "2001-01-31    2.238938e+05\n",
       "2001-04-30    2.290600e+05\n",
       "2001-07-31    2.376772e+05\n",
       "2001-10-31    2.352459e+05\n",
       "2002-01-31    2.326810e+05\n",
       "2002-04-30    2.495408e+05\n",
       "                  ...     \n",
       "2010-07-31    4.847730e+05\n",
       "2010-10-31    4.864789e+05\n",
       "2011-01-31    4.810816e+05\n",
       "2011-04-30    5.411017e+05\n",
       "2011-07-31    4.741491e+05\n",
       "2011-10-31    4.944907e+05\n",
       "2012-01-31    4.783028e+05\n",
       "2012-04-30    4.837935e+05\n",
       "2012-07-31    5.426842e+05\n",
       "2012-10-31    5.321254e+05\n",
       "2013-01-31    5.274344e+05\n",
       "2013-04-30    5.497145e+05\n",
       "2013-07-31    5.718468e+05\n",
       "2013-10-31    6.465012e+05\n",
       "2014-01-31    7.027911e+05\n",
       "2014-04-30    7.028010e+05\n",
       "2014-07-31    7.363072e+05\n",
       "2014-10-31    7.388280e+05\n",
       "2015-01-31    7.264209e+05\n",
       "2015-04-30    7.686300e+05\n",
       "2015-07-31    7.947236e+05\n",
       "2015-10-31    7.628720e+05\n",
       "2016-01-31    8.553268e+05\n",
       "2016-04-30    7.704758e+05\n",
       "2016-07-31    8.041297e+05\n",
       "2016-10-31    8.408530e+05\n",
       "2017-01-31    1.001032e+06\n",
       "2017-04-30    9.958734e+05\n",
       "2017-07-31    1.224834e+06\n",
       "2017-10-31    8.719626e+05\n",
       "Freq: 3M, Name: Sold Price, Length: 92, dtype: float64"
      ]
     },
     "execution_count": 30,
     "metadata": {},
     "output_type": "execute_result"
    }
   ],
   "source": [
    "resampled_df"
   ]
  }
 ],
 "metadata": {
  "kernelspec": {
   "display_name": "Python 3",
   "language": "python",
   "name": "python3"
  },
  "language_info": {
   "codemirror_mode": {
    "name": "ipython",
    "version": 3
   },
   "file_extension": ".py",
   "mimetype": "text/x-python",
   "name": "python",
   "nbconvert_exporter": "python",
   "pygments_lexer": "ipython3",
   "version": "3.6.2"
  }
 },
 "nbformat": 4,
 "nbformat_minor": 2
}
